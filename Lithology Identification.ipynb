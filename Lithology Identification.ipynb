{
 "cells": [
  {
   "cell_type": "markdown",
   "metadata": {},
   "source": [
    "The following work has been performed under the supervision of Dr. Ekarit Panacharoensawad, Assistant Professor, Department of Petroleum Engineering, Texas Tech University."
   ]
  },
  {
   "cell_type": "markdown",
   "metadata": {},
   "source": [
    "# LITHOLOGY IDENTIFICATION"
   ]
  },
  {
   "cell_type": "markdown",
   "metadata": {},
   "source": [
    "# 1. Introduction"
   ]
  },
  {
   "cell_type": "markdown",
   "metadata": {},
   "source": [
    "Identifying lithology is an important qualitative application of resistivity and porosity logs, but it can also be one of the most challenging. Identifying sandstone may only require a quick glance at the photoelectric factor (Pe) curve on a density log, but other reservoir rocks like limestone and dolomite may require consideration of their porosity responses.\n",
    "Quick-look lithology identification is a qualitative process that initially involves Pe values and pattern recognition of porosity responses. Clues provided by other measurements help improve the method’s effectiveness. \n",
    "This work presents the use of Machine Learning concepts to train a model and use this model to predict common lithologies."
   ]
  },
  {
   "cell_type": "markdown",
   "metadata": {},
   "source": [
    "# 2. Notebook Setup"
   ]
  },
  {
   "cell_type": "code",
   "execution_count": 1,
   "metadata": {},
   "outputs": [],
   "source": [
    "#Libraries used\n",
    "%matplotlib inline               \n",
    "#The output of plotting commands is displayed directly below the code cell that produced it.\n",
    "import os                        #This module provides a portable way of using operating system dependent functionality\n",
    "import numpy as np               #Adds support for large, multi-dimensional arrays and matrices, with a collection of mathematical functions.\n",
    "import pandas as pd              #Provides data structures and data analysis tools for the Python programming language.\n",
    "import matplotlib                #Produces publication quality figures in a variety of hardcopy formats and interactive environments across platforms.\n",
    "import matplotlib.pyplot as plt  #It is a collection of command style functions that make matplotlib work like MATLAB\n",
    "from six.moves import urllib"
   ]
  },
  {
   "cell_type": "markdown",
   "metadata": {},
   "source": [
    "# 3. Dataset Preparation"
   ]
  },
  {
   "cell_type": "markdown",
   "metadata": {},
   "source": [
    "## 3.1. Load Data"
   ]
  },
  {
   "cell_type": "markdown",
   "metadata": {},
   "source": [
    "The information is taken from the excel file in VictorPuglieseManotas's repository named DataScience. In this way, any person could download the raw data:\n",
    "https://github.com/VictorPuglieseManotas/DataScience/blob/master/Dataset_Geological_Data.xlsx"
   ]
  },
  {
   "cell_type": "code",
   "execution_count": 2,
   "metadata": {
    "scrolled": true
   },
   "outputs": [
    {
     "data": {
      "text/html": [
       "<div>\n",
       "<style scoped>\n",
       "    .dataframe tbody tr th:only-of-type {\n",
       "        vertical-align: middle;\n",
       "    }\n",
       "\n",
       "    .dataframe tbody tr th {\n",
       "        vertical-align: top;\n",
       "    }\n",
       "\n",
       "    .dataframe thead th {\n",
       "        text-align: right;\n",
       "    }\n",
       "</style>\n",
       "<table border=\"1\" class=\"dataframe\">\n",
       "  <thead>\n",
       "    <tr style=\"text-align: right;\">\n",
       "      <th></th>\n",
       "      <th>DEPTH</th>\n",
       "      <th>Neutron Porosity</th>\n",
       "      <th>Caliper</th>\n",
       "      <th>Density Porosity</th>\n",
       "      <th>Gamma ray</th>\n",
       "      <th>Photoelectric</th>\n",
       "      <th>Bulk density</th>\n",
       "      <th>Density Correction</th>\n",
       "      <th>Resistivity (Deep)</th>\n",
       "      <th>Resistivity (Medium)</th>\n",
       "      <th>Resistivity (Shallow)</th>\n",
       "      <th>Ratio (shallow/deep resistivity)</th>\n",
       "      <th>Spontaneous Potential</th>\n",
       "      <th>Micro-inverse resistivity (micro log)</th>\n",
       "      <th>Micro-normal resistivity (micro log)</th>\n",
       "      <th>Delta-t (interval transit time, or slowness)</th>\n",
       "      <th>Sonic porosity</th>\n",
       "      <th>Type of Formation</th>\n",
       "    </tr>\n",
       "  </thead>\n",
       "  <tbody>\n",
       "    <tr>\n",
       "      <th>0</th>\n",
       "      <td>3600.0</td>\n",
       "      <td>29.6276</td>\n",
       "      <td>7.8359</td>\n",
       "      <td>29.0183</td>\n",
       "      <td>26.4565</td>\n",
       "      <td>4.0462</td>\n",
       "      <td>2.2138</td>\n",
       "      <td>-0.0356</td>\n",
       "      <td>0.9126</td>\n",
       "      <td>1.0719</td>\n",
       "      <td>5.2530</td>\n",
       "      <td>-68.4118</td>\n",
       "      <td>-20.3987</td>\n",
       "      <td>5.1127</td>\n",
       "      <td>7.7722</td>\n",
       "      <td>78.7252</td>\n",
       "      <td>22.0122</td>\n",
       "      <td>shaly limestone</td>\n",
       "    </tr>\n",
       "    <tr>\n",
       "      <th>1</th>\n",
       "      <td>3600.5</td>\n",
       "      <td>28.5671</td>\n",
       "      <td>7.8418</td>\n",
       "      <td>28.4555</td>\n",
       "      <td>28.7921</td>\n",
       "      <td>4.1226</td>\n",
       "      <td>2.2234</td>\n",
       "      <td>-0.0395</td>\n",
       "      <td>0.8803</td>\n",
       "      <td>1.0008</td>\n",
       "      <td>4.6464</td>\n",
       "      <td>-65.0243</td>\n",
       "      <td>-19.9382</td>\n",
       "      <td>5.0602</td>\n",
       "      <td>7.4297</td>\n",
       "      <td>78.2474</td>\n",
       "      <td>21.6743</td>\n",
       "      <td>shaly limestone</td>\n",
       "    </tr>\n",
       "    <tr>\n",
       "      <th>2</th>\n",
       "      <td>3601.0</td>\n",
       "      <td>27.1170</td>\n",
       "      <td>7.8434</td>\n",
       "      <td>27.3459</td>\n",
       "      <td>27.4413</td>\n",
       "      <td>4.2350</td>\n",
       "      <td>2.2424</td>\n",
       "      <td>-0.0362</td>\n",
       "      <td>0.8754</td>\n",
       "      <td>0.9679</td>\n",
       "      <td>4.3056</td>\n",
       "      <td>-62.2656</td>\n",
       "      <td>-19.4078</td>\n",
       "      <td>4.9294</td>\n",
       "      <td>7.0917</td>\n",
       "      <td>77.6106</td>\n",
       "      <td>21.2239</td>\n",
       "      <td>shaly limestone</td>\n",
       "    </tr>\n",
       "    <tr>\n",
       "      <th>3</th>\n",
       "      <td>3601.5</td>\n",
       "      <td>24.8582</td>\n",
       "      <td>7.8558</td>\n",
       "      <td>25.3447</td>\n",
       "      <td>25.6896</td>\n",
       "      <td>4.3685</td>\n",
       "      <td>2.2766</td>\n",
       "      <td>-0.0289</td>\n",
       "      <td>0.9005</td>\n",
       "      <td>0.9813</td>\n",
       "      <td>4.1801</td>\n",
       "      <td>-60.0036</td>\n",
       "      <td>-18.7673</td>\n",
       "      <td>5.2303</td>\n",
       "      <td>7.0816</td>\n",
       "      <td>76.7257</td>\n",
       "      <td>20.5981</td>\n",
       "      <td>shaly limestone</td>\n",
       "    </tr>\n",
       "    <tr>\n",
       "      <th>4</th>\n",
       "      <td>3602.0</td>\n",
       "      <td>23.1241</td>\n",
       "      <td>7.8720</td>\n",
       "      <td>22.7096</td>\n",
       "      <td>27.0588</td>\n",
       "      <td>4.5133</td>\n",
       "      <td>2.3217</td>\n",
       "      <td>-0.0250</td>\n",
       "      <td>0.9582</td>\n",
       "      <td>1.0502</td>\n",
       "      <td>4.1355</td>\n",
       "      <td>-57.1585</td>\n",
       "      <td>-17.8640</td>\n",
       "      <td>5.2853</td>\n",
       "      <td>7.2144</td>\n",
       "      <td>75.4503</td>\n",
       "      <td>19.6961</td>\n",
       "      <td>shaly limestone</td>\n",
       "    </tr>\n",
       "  </tbody>\n",
       "</table>\n",
       "</div>"
      ],
      "text/plain": [
       "    DEPTH  Neutron Porosity  Caliper  Density Porosity  Gamma ray  \\\n",
       "0  3600.0           29.6276   7.8359           29.0183    26.4565   \n",
       "1  3600.5           28.5671   7.8418           28.4555    28.7921   \n",
       "2  3601.0           27.1170   7.8434           27.3459    27.4413   \n",
       "3  3601.5           24.8582   7.8558           25.3447    25.6896   \n",
       "4  3602.0           23.1241   7.8720           22.7096    27.0588   \n",
       "\n",
       "   Photoelectric  Bulk density  Density Correction  Resistivity (Deep)  \\\n",
       "0         4.0462        2.2138             -0.0356              0.9126   \n",
       "1         4.1226        2.2234             -0.0395              0.8803   \n",
       "2         4.2350        2.2424             -0.0362              0.8754   \n",
       "3         4.3685        2.2766             -0.0289              0.9005   \n",
       "4         4.5133        2.3217             -0.0250              0.9582   \n",
       "\n",
       "   Resistivity (Medium)  Resistivity (Shallow)  \\\n",
       "0                1.0719                 5.2530   \n",
       "1                1.0008                 4.6464   \n",
       "2                0.9679                 4.3056   \n",
       "3                0.9813                 4.1801   \n",
       "4                1.0502                 4.1355   \n",
       "\n",
       "   Ratio (shallow/deep resistivity)  Spontaneous Potential  \\\n",
       "0                          -68.4118               -20.3987   \n",
       "1                          -65.0243               -19.9382   \n",
       "2                          -62.2656               -19.4078   \n",
       "3                          -60.0036               -18.7673   \n",
       "4                          -57.1585               -17.8640   \n",
       "\n",
       "   Micro-inverse resistivity (micro log)  \\\n",
       "0                                 5.1127   \n",
       "1                                 5.0602   \n",
       "2                                 4.9294   \n",
       "3                                 5.2303   \n",
       "4                                 5.2853   \n",
       "\n",
       "   Micro-normal resistivity (micro log)  \\\n",
       "0                                7.7722   \n",
       "1                                7.4297   \n",
       "2                                7.0917   \n",
       "3                                7.0816   \n",
       "4                                7.2144   \n",
       "\n",
       "   Delta-t (interval transit time, or slowness)  Sonic porosity  \\\n",
       "0                                       78.7252         22.0122   \n",
       "1                                       78.2474         21.6743   \n",
       "2                                       77.6106         21.2239   \n",
       "3                                       76.7257         20.5981   \n",
       "4                                       75.4503         19.6961   \n",
       "\n",
       "  Type of Formation  \n",
       "0   shaly limestone  \n",
       "1   shaly limestone  \n",
       "2   shaly limestone  \n",
       "3   shaly limestone  \n",
       "4   shaly limestone  "
      ]
     },
     "execution_count": 2,
     "metadata": {},
     "output_type": "execute_result"
    }
   ],
   "source": [
    "Download=\"https://github.com/VictorPuglieseManotas/DataScience/blob/master/Dataset_Geological_Data.xlsx\"\n",
    "urllib.request.urlretrieve(Download)                                   #Copy a network object denoted by a URL to a local file\n",
    "Log_Data=pd.read_excel(r\"C:\\Users\\victo\\Dataset_Geological_Data.xlsx\") #Read an Excel table into a pandas DataFrame\n",
    "Log_Data=Log_Data.drop(Log_Data.columns[[18,19,20,21,22]], axis=1)     #The columns 18,19,20,21 and 22 do not contain any valid information\n",
    "Log_Data.head()                                                        #Returns the first 5 rows for the object based on position"
   ]
  },
  {
   "cell_type": "markdown",
   "metadata": {},
   "source": [
    "## 3.2. Clean the Data"
   ]
  },
  {
   "cell_type": "markdown",
   "metadata": {},
   "source": [
    "### 3.2.1. Missing Data"
   ]
  },
  {
   "cell_type": "markdown",
   "metadata": {},
   "source": [
    "The info() method is useful to get a quick description of the data, in particular the total number of rows, and each attribute's type and number of non-null values."
   ]
  },
  {
   "cell_type": "code",
   "execution_count": 3,
   "metadata": {},
   "outputs": [
    {
     "name": "stdout",
     "output_type": "stream",
     "text": [
      "<class 'pandas.core.frame.DataFrame'>\n",
      "RangeIndex: 1989 entries, 0 to 1988\n",
      "Data columns (total 18 columns):\n",
      "DEPTH                                           1989 non-null float64\n",
      "Neutron Porosity                                1989 non-null float64\n",
      "Caliper                                         1989 non-null float64\n",
      "Density Porosity                                1989 non-null float64\n",
      "Gamma ray                                       1989 non-null float64\n",
      "Photoelectric                                   1989 non-null float64\n",
      "Bulk density                                    1989 non-null float64\n",
      "Density Correction                              1989 non-null float64\n",
      "Resistivity (Deep)                              1989 non-null float64\n",
      "Resistivity (Medium)                            1989 non-null float64\n",
      "Resistivity (Shallow)                           1989 non-null float64\n",
      "Ratio (shallow/deep resistivity)                1989 non-null float64\n",
      "Spontaneous Potential                           1989 non-null float64\n",
      "Micro-inverse resistivity (micro log)           1989 non-null float64\n",
      "Micro-normal resistivity (micro log)            1989 non-null float64\n",
      "Delta-t (interval transit time, or slowness)    1989 non-null float64\n",
      "Sonic porosity                                  1989 non-null float64\n",
      "Type of Formation                               1936 non-null object\n",
      "dtypes: float64(17), object(1)\n",
      "memory usage: 279.8+ KB\n"
     ]
    }
   ],
   "source": [
    "Log_Data.info()"
   ]
  },
  {
   "cell_type": "markdown",
   "metadata": {},
   "source": [
    "There are 1,989 instances in the dataset, which means that it could be considered as a small dataset. Notice that the 'Type of Formation' attribute has only 1,936 non-null values, meaning that 53 instances do not have a target value.\n",
    "All attributes are numerical, and the target is categorical. We can find out the categories that exist and how many instance belong to each category by using  the 'value_counts()' method:"
   ]
  },
  {
   "cell_type": "code",
   "execution_count": 4,
   "metadata": {},
   "outputs": [
    {
     "data": {
      "text/plain": [
       "limestone          956\n",
       "shaly limestone    456\n",
       "shale              258\n",
       "dolomite           163\n",
       "sandstone           59\n",
       "sandy limestone     38\n",
       "shaly sandstone      6\n",
       "Name: Type of Formation, dtype: int64"
      ]
     },
     "execution_count": 4,
     "metadata": {},
     "output_type": "execute_result"
    }
   ],
   "source": [
    "Log_Data['Type of Formation'].value_counts()"
   ]
  },
  {
   "cell_type": "markdown",
   "metadata": {},
   "source": [
    "We need to identify the instances which do not have a target value, and eliminate those instances."
   ]
  },
  {
   "cell_type": "code",
   "execution_count": 5,
   "metadata": {},
   "outputs": [],
   "source": [
    "null_index=pd.isnull(Log_Data['Type of Formation']).nonzero()[0]\n",
    "#.isnull() returns False for Non-Null and True for Null values.\n",
    "#.nonzero()[0] returns a vector with the indices of null values.\n",
    "Log_Data=Log_Data.drop(Log_Data.index[null_index])"
   ]
  },
  {
   "cell_type": "markdown",
   "metadata": {},
   "source": [
    "### 3.2.1. Outliers"
   ]
  },
  {
   "cell_type": "markdown",
   "metadata": {},
   "source": [
    "The 'describe()' method shows a summary of the numerical attributes."
   ]
  },
  {
   "cell_type": "code",
   "execution_count": 6,
   "metadata": {
    "scrolled": false
   },
   "outputs": [
    {
     "data": {
      "text/html": [
       "<div>\n",
       "<style scoped>\n",
       "    .dataframe tbody tr th:only-of-type {\n",
       "        vertical-align: middle;\n",
       "    }\n",
       "\n",
       "    .dataframe tbody tr th {\n",
       "        vertical-align: top;\n",
       "    }\n",
       "\n",
       "    .dataframe thead th {\n",
       "        text-align: right;\n",
       "    }\n",
       "</style>\n",
       "<table border=\"1\" class=\"dataframe\">\n",
       "  <thead>\n",
       "    <tr style=\"text-align: right;\">\n",
       "      <th></th>\n",
       "      <th>DEPTH</th>\n",
       "      <th>Neutron Porosity</th>\n",
       "      <th>Caliper</th>\n",
       "      <th>Density Porosity</th>\n",
       "      <th>Gamma ray</th>\n",
       "      <th>Photoelectric</th>\n",
       "      <th>Bulk density</th>\n",
       "      <th>Density Correction</th>\n",
       "      <th>Resistivity (Deep)</th>\n",
       "      <th>Resistivity (Medium)</th>\n",
       "      <th>Resistivity (Shallow)</th>\n",
       "      <th>Ratio (shallow/deep resistivity)</th>\n",
       "      <th>Spontaneous Potential</th>\n",
       "      <th>Micro-inverse resistivity (micro log)</th>\n",
       "      <th>Micro-normal resistivity (micro log)</th>\n",
       "      <th>Delta-t (interval transit time, or slowness)</th>\n",
       "      <th>Sonic porosity</th>\n",
       "    </tr>\n",
       "  </thead>\n",
       "  <tbody>\n",
       "    <tr>\n",
       "      <th>count</th>\n",
       "      <td>1936.00000</td>\n",
       "      <td>1936.000000</td>\n",
       "      <td>1936.000000</td>\n",
       "      <td>1936.000000</td>\n",
       "      <td>1936.000000</td>\n",
       "      <td>1936.000000</td>\n",
       "      <td>1936.000000</td>\n",
       "      <td>1936.000000</td>\n",
       "      <td>1936.000000</td>\n",
       "      <td>1936.000000</td>\n",
       "      <td>1936.000000</td>\n",
       "      <td>1936.000000</td>\n",
       "      <td>1936.000000</td>\n",
       "      <td>1936.000000</td>\n",
       "      <td>1936.000000</td>\n",
       "      <td>1936.000000</td>\n",
       "      <td>1936.000000</td>\n",
       "    </tr>\n",
       "    <tr>\n",
       "      <th>mean</th>\n",
       "      <td>4083.75000</td>\n",
       "      <td>6.619674</td>\n",
       "      <td>8.043651</td>\n",
       "      <td>11.654091</td>\n",
       "      <td>44.680353</td>\n",
       "      <td>3.980096</td>\n",
       "      <td>2.510850</td>\n",
       "      <td>0.013629</td>\n",
       "      <td>10.142959</td>\n",
       "      <td>13.799570</td>\n",
       "      <td>30.548878</td>\n",
       "      <td>-32.810248</td>\n",
       "      <td>39.413421</td>\n",
       "      <td>14.609119</td>\n",
       "      <td>13.636913</td>\n",
       "      <td>68.709880</td>\n",
       "      <td>14.929196</td>\n",
       "    </tr>\n",
       "    <tr>\n",
       "      <th>std</th>\n",
       "      <td>279.50969</td>\n",
       "      <td>92.181552</td>\n",
       "      <td>0.390340</td>\n",
       "      <td>7.309594</td>\n",
       "      <td>127.782093</td>\n",
       "      <td>0.786541</td>\n",
       "      <td>0.125219</td>\n",
       "      <td>0.059273</td>\n",
       "      <td>11.398527</td>\n",
       "      <td>23.027591</td>\n",
       "      <td>53.488374</td>\n",
       "      <td>27.256843</td>\n",
       "      <td>29.263332</td>\n",
       "      <td>11.776815</td>\n",
       "      <td>9.331425</td>\n",
       "      <td>10.390567</td>\n",
       "      <td>7.348349</td>\n",
       "    </tr>\n",
       "    <tr>\n",
       "      <th>min</th>\n",
       "      <td>3600.00000</td>\n",
       "      <td>-999.250000</td>\n",
       "      <td>6.679300</td>\n",
       "      <td>0.007300</td>\n",
       "      <td>-999.250000</td>\n",
       "      <td>1.644400</td>\n",
       "      <td>2.081900</td>\n",
       "      <td>-0.085200</td>\n",
       "      <td>0.875100</td>\n",
       "      <td>0.933400</td>\n",
       "      <td>2.214300</td>\n",
       "      <td>-158.534000</td>\n",
       "      <td>-20.398700</td>\n",
       "      <td>1.527800</td>\n",
       "      <td>1.334200</td>\n",
       "      <td>50.361400</td>\n",
       "      <td>1.952900</td>\n",
       "    </tr>\n",
       "    <tr>\n",
       "      <th>25%</th>\n",
       "      <td>3841.87500</td>\n",
       "      <td>9.528900</td>\n",
       "      <td>7.838375</td>\n",
       "      <td>5.671850</td>\n",
       "      <td>34.419225</td>\n",
       "      <td>3.499700</td>\n",
       "      <td>2.421475</td>\n",
       "      <td>-0.025400</td>\n",
       "      <td>3.287900</td>\n",
       "      <td>3.463800</td>\n",
       "      <td>6.743025</td>\n",
       "      <td>-53.090075</td>\n",
       "      <td>20.506275</td>\n",
       "      <td>6.182225</td>\n",
       "      <td>7.676650</td>\n",
       "      <td>61.743475</td>\n",
       "      <td>10.002450</td>\n",
       "    </tr>\n",
       "    <tr>\n",
       "      <th>50%</th>\n",
       "      <td>4083.75000</td>\n",
       "      <td>14.406000</td>\n",
       "      <td>7.969750</td>\n",
       "      <td>10.486100</td>\n",
       "      <td>45.702000</td>\n",
       "      <td>4.141150</td>\n",
       "      <td>2.530700</td>\n",
       "      <td>-0.003300</td>\n",
       "      <td>6.852950</td>\n",
       "      <td>7.139750</td>\n",
       "      <td>12.676400</td>\n",
       "      <td>-22.811750</td>\n",
       "      <td>42.947250</td>\n",
       "      <td>9.892700</td>\n",
       "      <td>11.042900</td>\n",
       "      <td>67.223250</td>\n",
       "      <td>13.877800</td>\n",
       "    </tr>\n",
       "    <tr>\n",
       "      <th>75%</th>\n",
       "      <td>4325.62500</td>\n",
       "      <td>19.663875</td>\n",
       "      <td>8.121375</td>\n",
       "      <td>16.873250</td>\n",
       "      <td>73.297800</td>\n",
       "      <td>4.522125</td>\n",
       "      <td>2.613025</td>\n",
       "      <td>0.035125</td>\n",
       "      <td>11.867325</td>\n",
       "      <td>13.920400</td>\n",
       "      <td>27.495800</td>\n",
       "      <td>-12.923925</td>\n",
       "      <td>63.887800</td>\n",
       "      <td>19.806575</td>\n",
       "      <td>16.742250</td>\n",
       "      <td>73.306225</td>\n",
       "      <td>18.179775</td>\n",
       "    </tr>\n",
       "    <tr>\n",
       "      <th>max</th>\n",
       "      <td>4567.50000</td>\n",
       "      <td>100.000000</td>\n",
       "      <td>10.674400</td>\n",
       "      <td>36.730900</td>\n",
       "      <td>351.118300</td>\n",
       "      <td>5.908800</td>\n",
       "      <td>2.740700</td>\n",
       "      <td>0.250300</td>\n",
       "      <td>101.907600</td>\n",
       "      <td>285.479000</td>\n",
       "      <td>761.316400</td>\n",
       "      <td>36.663500</td>\n",
       "      <td>88.764900</td>\n",
       "      <td>61.073700</td>\n",
       "      <td>55.081500</td>\n",
       "      <td>106.495900</td>\n",
       "      <td>41.652000</td>\n",
       "    </tr>\n",
       "  </tbody>\n",
       "</table>\n",
       "</div>"
      ],
      "text/plain": [
       "            DEPTH  Neutron Porosity      Caliper  Density Porosity  \\\n",
       "count  1936.00000       1936.000000  1936.000000       1936.000000   \n",
       "mean   4083.75000          6.619674     8.043651         11.654091   \n",
       "std     279.50969         92.181552     0.390340          7.309594   \n",
       "min    3600.00000       -999.250000     6.679300          0.007300   \n",
       "25%    3841.87500          9.528900     7.838375          5.671850   \n",
       "50%    4083.75000         14.406000     7.969750         10.486100   \n",
       "75%    4325.62500         19.663875     8.121375         16.873250   \n",
       "max    4567.50000        100.000000    10.674400         36.730900   \n",
       "\n",
       "         Gamma ray  Photoelectric  Bulk density  Density Correction  \\\n",
       "count  1936.000000    1936.000000   1936.000000         1936.000000   \n",
       "mean     44.680353       3.980096      2.510850            0.013629   \n",
       "std     127.782093       0.786541      0.125219            0.059273   \n",
       "min    -999.250000       1.644400      2.081900           -0.085200   \n",
       "25%      34.419225       3.499700      2.421475           -0.025400   \n",
       "50%      45.702000       4.141150      2.530700           -0.003300   \n",
       "75%      73.297800       4.522125      2.613025            0.035125   \n",
       "max     351.118300       5.908800      2.740700            0.250300   \n",
       "\n",
       "       Resistivity (Deep)  Resistivity (Medium)  Resistivity (Shallow)  \\\n",
       "count         1936.000000           1936.000000            1936.000000   \n",
       "mean            10.142959             13.799570              30.548878   \n",
       "std             11.398527             23.027591              53.488374   \n",
       "min              0.875100              0.933400               2.214300   \n",
       "25%              3.287900              3.463800               6.743025   \n",
       "50%              6.852950              7.139750              12.676400   \n",
       "75%             11.867325             13.920400              27.495800   \n",
       "max            101.907600            285.479000             761.316400   \n",
       "\n",
       "       Ratio (shallow/deep resistivity)  Spontaneous Potential  \\\n",
       "count                       1936.000000            1936.000000   \n",
       "mean                         -32.810248              39.413421   \n",
       "std                           27.256843              29.263332   \n",
       "min                         -158.534000             -20.398700   \n",
       "25%                          -53.090075              20.506275   \n",
       "50%                          -22.811750              42.947250   \n",
       "75%                          -12.923925              63.887800   \n",
       "max                           36.663500              88.764900   \n",
       "\n",
       "       Micro-inverse resistivity (micro log)  \\\n",
       "count                            1936.000000   \n",
       "mean                               14.609119   \n",
       "std                                11.776815   \n",
       "min                                 1.527800   \n",
       "25%                                 6.182225   \n",
       "50%                                 9.892700   \n",
       "75%                                19.806575   \n",
       "max                                61.073700   \n",
       "\n",
       "       Micro-normal resistivity (micro log)  \\\n",
       "count                           1936.000000   \n",
       "mean                              13.636913   \n",
       "std                                9.331425   \n",
       "min                                1.334200   \n",
       "25%                                7.676650   \n",
       "50%                               11.042900   \n",
       "75%                               16.742250   \n",
       "max                               55.081500   \n",
       "\n",
       "       Delta-t (interval transit time, or slowness)  Sonic porosity  \n",
       "count                                   1936.000000     1936.000000  \n",
       "mean                                      68.709880       14.929196  \n",
       "std                                       10.390567        7.348349  \n",
       "min                                       50.361400        1.952900  \n",
       "25%                                       61.743475       10.002450  \n",
       "50%                                       67.223250       13.877800  \n",
       "75%                                       73.306225       18.179775  \n",
       "max                                      106.495900       41.652000  "
      ]
     },
     "execution_count": 6,
     "metadata": {},
     "output_type": "execute_result"
    }
   ],
   "source": [
    "Log_Data.describe()"
   ]
  },
  {
   "cell_type": "markdown",
   "metadata": {},
   "source": [
    "Neutron tools acquire a measurement that is sensitive to a formation's hydrogen content. In most rocks, hydrogen exists in pore fluids and not in matrix mineral. It is phisically imposible to obtain negative values of the Neutron Porosity, so we can neglect the instances which have a Neutron Porosity less than 0. These values suggets that the tool was not working properly."
   ]
  },
  {
   "cell_type": "code",
   "execution_count": 7,
   "metadata": {},
   "outputs": [],
   "source": [
    "outlier_index=Log_Data['Neutron Porosity']<0\n",
    "outlier_index=outlier_index.nonzero()[0]\n",
    "#Logical comparison returns False for Positive and True for Negative values.\n",
    "#.nonzero()[0] returns a vector with the indices of null values.\n",
    "Log_Data=Log_Data.drop(Log_Data.index[outlier_index])"
   ]
  },
  {
   "cell_type": "markdown",
   "metadata": {},
   "source": [
    "There is usually no fundamental connection between different rock types and measured gamma ray intensity, but there exists a strong general correlation between the radioactive isotope content and mineralogy. Logging tools have been developed to read the gamma rays emitted by these elements and interpret lithology from the information collected.\n",
    "In a similar manner as Neutron Porosity log, it is phisically imposible to obtain negative values for a gamma ray log."
   ]
  },
  {
   "cell_type": "code",
   "execution_count": 8,
   "metadata": {},
   "outputs": [],
   "source": [
    "outlier_index=Log_Data['Gamma ray']<0\n",
    "outlier_index=outlier_index.nonzero()[0]\n",
    "#Logical comparison returns False for Positive and True for Negative values.\n",
    "#.nonzero()[0] returns a vector with the indices of null values.\n",
    "Log_Data=Log_Data.drop(Log_Data.index[outlier_index])"
   ]
  },
  {
   "cell_type": "markdown",
   "metadata": {},
   "source": [
    "## 3.3. Attribute Combinations"
   ]
  },
  {
   "cell_type": "markdown",
   "metadata": {},
   "source": [
    "### 3.3.1. Cross-Over & Separation"
   ]
  },
  {
   "cell_type": "markdown",
   "metadata": {},
   "source": [
    "Density and Neutron porosity are estimates of total porosity. Both values are calculate assuming all rocks are limestone (i.e., matrix assumption) and that any pore space is filled with a water (i.e., fluid assumption). When the actual formation conditions agree with these assumptions, porosity values are equal. When there is disagreement between actual and assumed condition, ∅_d and ∅_n display opposing responses. In others words, one porosity value overestimates total porosity and the other value underestimates.\n",
    "\n",
    "The opposing nature of ∅_d and ∅_n responses to assumed conditions is the basis for using pattern recognition to identify lithology and, to a lesser extent, fluid type. The patterns recognized are grouped into three classes:\n",
    "\n",
    "• Stacked response (∅D ≈ ∅N) – May indicate the formation’s actual lithology and fluid type agree with assumed conditions.\n",
    "\n",
    "• Cross-over (∅D < ∅N) – May indicate the formation’s actual lithology does not agree with the assumed matrix, or that the actual fluid type does not agree with the assumed fluid (i.e., hydrocarbon is present in addition to water).\n",
    "\n",
    "• Separation (∅N > ∅D) – May indicate the formation’s actual lithology does not agree with the assumed matrix, or that clay minerals are present (e.g., shaly formation).\n",
    "\n",
    "According to the previous concepts, the difference (∅D - ∅N) indicates cross-over (negative values) or separation (positive values).\n",
    "\n",
    "Also, the absolute value of Neutron Porosity close to 0 is a good indication of Halite or Anhydrite formation."
   ]
  },
  {
   "cell_type": "code",
   "execution_count": 9,
   "metadata": {},
   "outputs": [],
   "source": [
    "Log_Data['Cross-Over_Separation']=Log_Data['Density Porosity']-Log_Data['Neutron Porosity']\n",
    "Log_Data=Log_Data.drop('Density Porosity',axis=1)"
   ]
  },
  {
   "cell_type": "markdown",
   "metadata": {},
   "source": [
    "### 3.3.2. Resistivity Invasion"
   ]
  },
  {
   "cell_type": "markdown",
   "metadata": {},
   "source": [
    "Shale usually experiences minimal invasion because of its very low permeability, so resistivity curves representing multiple depths of investigation overlay or \"stack\". Shale also has lower resistivity than most other rocks (1-10 Ohms is a typical range) because, unlike most other minerals, clay minerals in shale are conductive.\n",
    "According the previos explanation, it could be a good idea to use the difference between Depth Resistivity and Shallow Resistivity as a measure of the invasion, and the absolute value of Depth Resistivity."
   ]
  },
  {
   "cell_type": "code",
   "execution_count": 12,
   "metadata": {},
   "outputs": [],
   "source": [
    "Log_Data['Resistivity_Invasion']=Log_Data['Resistivity (Deep)']-Log_Data['Resistivity (Shallow)']\n",
    "Log_Data=Log_Data.drop(['Resistivity (Medium)','Resistivity (Shallow)','Micro-inverse resistivity (micro log)','Micro-normal resistivity (micro log)'],axis=1)"
   ]
  },
  {
   "cell_type": "markdown",
   "metadata": {},
   "source": [
    "## 3.4. Creating the Train and Test sets"
   ]
  },
  {
   "cell_type": "markdown",
   "metadata": {},
   "source": [
    "The Log_Data array contains the attributes and the labels (lithologies). We need to separate this information into 2 different arrays.\n",
    "\n",
    "Then, we will split the instances in a Training set and a Test Set. We will train different models and compare how well they generalize the Test set. In order to acomplish this, we will use the class 'train_test_split'. It splits arrays or matrices into random train and test subsets.\n",
    "\n",
    "80% of the instances will belong to the training set."
   ]
  },
  {
   "cell_type": "code",
   "execution_count": 13,
   "metadata": {},
   "outputs": [
    {
     "name": "stderr",
     "output_type": "stream",
     "text": [
      "C:\\Users\\victo\\AppData\\Local\\conda\\conda\\envs\\datascience\\lib\\site-packages\\sklearn\\model_selection\\_split.py:2026: FutureWarning: From version 0.21, test_size will always complement train_size unless both are specified.\n",
      "  FutureWarning)\n"
     ]
    },
    {
     "data": {
      "text/html": [
       "<div>\n",
       "<style scoped>\n",
       "    .dataframe tbody tr th:only-of-type {\n",
       "        vertical-align: middle;\n",
       "    }\n",
       "\n",
       "    .dataframe tbody tr th {\n",
       "        vertical-align: top;\n",
       "    }\n",
       "\n",
       "    .dataframe thead th {\n",
       "        text-align: right;\n",
       "    }\n",
       "</style>\n",
       "<table border=\"1\" class=\"dataframe\">\n",
       "  <thead>\n",
       "    <tr style=\"text-align: right;\">\n",
       "      <th></th>\n",
       "      <th>DEPTH</th>\n",
       "      <th>Neutron Porosity</th>\n",
       "      <th>Caliper</th>\n",
       "      <th>Gamma ray</th>\n",
       "      <th>Photoelectric</th>\n",
       "      <th>Bulk density</th>\n",
       "      <th>Density Correction</th>\n",
       "      <th>Resistivity (Deep)</th>\n",
       "      <th>Ratio (shallow/deep resistivity)</th>\n",
       "      <th>Spontaneous Potential</th>\n",
       "      <th>Delta-t (interval transit time, or slowness)</th>\n",
       "      <th>Sonic porosity</th>\n",
       "      <th>Cross-Over_Separation</th>\n",
       "      <th>Resistivity_Invasion</th>\n",
       "    </tr>\n",
       "  </thead>\n",
       "  <tbody>\n",
       "    <tr>\n",
       "      <th>141</th>\n",
       "      <td>3670.5</td>\n",
       "      <td>15.9255</td>\n",
       "      <td>7.8206</td>\n",
       "      <td>48.0693</td>\n",
       "      <td>4.3521</td>\n",
       "      <td>2.4276</td>\n",
       "      <td>-0.0066</td>\n",
       "      <td>1.8423</td>\n",
       "      <td>-72.0014</td>\n",
       "      <td>-16.0151</td>\n",
       "      <td>66.6065</td>\n",
       "      <td>13.4417</td>\n",
       "      <td>0.5913</td>\n",
       "      <td>-9.7824</td>\n",
       "    </tr>\n",
       "    <tr>\n",
       "      <th>1010</th>\n",
       "      <td>4105.0</td>\n",
       "      <td>4.4988</td>\n",
       "      <td>7.9731</td>\n",
       "      <td>57.3899</td>\n",
       "      <td>4.3646</td>\n",
       "      <td>2.6878</td>\n",
       "      <td>-0.0208</td>\n",
       "      <td>40.4246</td>\n",
       "      <td>-19.1890</td>\n",
       "      <td>47.6622</td>\n",
       "      <td>55.1862</td>\n",
       "      <td>5.3650</td>\n",
       "      <td>-3.2015</td>\n",
       "      <td>-25.6230</td>\n",
       "    </tr>\n",
       "    <tr>\n",
       "      <th>1103</th>\n",
       "      <td>4151.5</td>\n",
       "      <td>26.3788</td>\n",
       "      <td>8.5307</td>\n",
       "      <td>118.3198</td>\n",
       "      <td>2.8256</td>\n",
       "      <td>2.4289</td>\n",
       "      <td>0.1525</td>\n",
       "      <td>3.3747</td>\n",
       "      <td>-12.9824</td>\n",
       "      <td>70.2279</td>\n",
       "      <td>90.8188</td>\n",
       "      <td>30.5649</td>\n",
       "      <td>-9.9406</td>\n",
       "      <td>-1.3295</td>\n",
       "    </tr>\n",
       "    <tr>\n",
       "      <th>1784</th>\n",
       "      <td>4492.0</td>\n",
       "      <td>16.3314</td>\n",
       "      <td>7.7790</td>\n",
       "      <td>18.1000</td>\n",
       "      <td>4.1440</td>\n",
       "      <td>2.6501</td>\n",
       "      <td>-0.0087</td>\n",
       "      <td>8.3836</td>\n",
       "      <td>-92.3737</td>\n",
       "      <td>29.6176</td>\n",
       "      <td>57.8142</td>\n",
       "      <td>7.2236</td>\n",
       "      <td>-12.8295</td>\n",
       "      <td>-80.7015</td>\n",
       "    </tr>\n",
       "    <tr>\n",
       "      <th>339</th>\n",
       "      <td>3769.5</td>\n",
       "      <td>12.9397</td>\n",
       "      <td>8.0099</td>\n",
       "      <td>53.4096</td>\n",
       "      <td>4.3121</td>\n",
       "      <td>2.6005</td>\n",
       "      <td>-0.0069</td>\n",
       "      <td>2.6410</td>\n",
       "      <td>-36.8891</td>\n",
       "      <td>8.0120</td>\n",
       "      <td>66.2199</td>\n",
       "      <td>13.1683</td>\n",
       "      <td>-6.5353</td>\n",
       "      <td>-4.1455</td>\n",
       "    </tr>\n",
       "  </tbody>\n",
       "</table>\n",
       "</div>"
      ],
      "text/plain": [
       "       DEPTH  Neutron Porosity  Caliper  Gamma ray  Photoelectric  \\\n",
       "141   3670.5           15.9255   7.8206    48.0693         4.3521   \n",
       "1010  4105.0            4.4988   7.9731    57.3899         4.3646   \n",
       "1103  4151.5           26.3788   8.5307   118.3198         2.8256   \n",
       "1784  4492.0           16.3314   7.7790    18.1000         4.1440   \n",
       "339   3769.5           12.9397   8.0099    53.4096         4.3121   \n",
       "\n",
       "      Bulk density  Density Correction  Resistivity (Deep)  \\\n",
       "141         2.4276             -0.0066              1.8423   \n",
       "1010        2.6878             -0.0208             40.4246   \n",
       "1103        2.4289              0.1525              3.3747   \n",
       "1784        2.6501             -0.0087              8.3836   \n",
       "339         2.6005             -0.0069              2.6410   \n",
       "\n",
       "      Ratio (shallow/deep resistivity)  Spontaneous Potential  \\\n",
       "141                           -72.0014               -16.0151   \n",
       "1010                          -19.1890                47.6622   \n",
       "1103                          -12.9824                70.2279   \n",
       "1784                          -92.3737                29.6176   \n",
       "339                           -36.8891                 8.0120   \n",
       "\n",
       "      Delta-t (interval transit time, or slowness)  Sonic porosity  \\\n",
       "141                                        66.6065         13.4417   \n",
       "1010                                       55.1862          5.3650   \n",
       "1103                                       90.8188         30.5649   \n",
       "1784                                       57.8142          7.2236   \n",
       "339                                        66.2199         13.1683   \n",
       "\n",
       "      Cross-Over_Separation  Resistivity_Invasion  \n",
       "141                  0.5913               -9.7824  \n",
       "1010                -3.2015              -25.6230  \n",
       "1103                -9.9406               -1.3295  \n",
       "1784               -12.8295              -80.7015  \n",
       "339                 -6.5353               -4.1455  "
      ]
     },
     "execution_count": 13,
     "metadata": {},
     "output_type": "execute_result"
    }
   ],
   "source": [
    "Lithology_Labels=Log_Data['Type of Formation']\n",
    "Log_Attributes=Log_Data.drop('Type of Formation',axis=1)\n",
    "\n",
    "from sklearn.model_selection import train_test_split\n",
    "Log_Attributes_train,Log_Attributes_test,Lithology_Labels_train,Lithology_Labels_test=train_test_split(Log_Attributes,Lithology_Labels,train_size=0.8,random_state=42)\n",
    "Log_Attributes_train.head()"
   ]
  },
  {
   "cell_type": "markdown",
   "metadata": {},
   "source": [
    "## 3.5. Scaling the features"
   ]
  },
  {
   "cell_type": "markdown",
   "metadata": {},
   "source": [
    "For review later. Pag. 136"
   ]
  },
  {
   "cell_type": "markdown",
   "metadata": {},
   "source": [
    "# 4. Machine Learning Model"
   ]
  },
  {
   "cell_type": "markdown",
   "metadata": {},
   "source": [
    "## 4.1. Model Selection"
   ]
  },
  {
   "cell_type": "markdown",
   "metadata": {},
   "source": [
    "The problem discuss previously is a Multiclass Classification task.\n",
    "\n",
    "All attributes are numerical, and the target is categorical.\n",
    "\n",
    "We are going to present different models and evaluate their performance to select the model with more potential."
   ]
  },
  {
   "cell_type": "markdown",
   "metadata": {},
   "source": [
    "### 4.1.1. Multinomial Logistic Regression"
   ]
  },
  {
   "cell_type": "markdown",
   "metadata": {},
   "source": [
    "The Logistic Regression model can be generalized to support multiple classes directly, without having to train and combine binary classifiers. This is called Multinomial Logistic Regression.\n",
    "This classifier predicts the class with highest estimated probability, minimizing the cost function called 'cross entropy'. Cross entropy is frequently used to measure how well a set of estimated class probabilities match the target classes."
   ]
  },
  {
   "cell_type": "code",
   "execution_count": 16,
   "metadata": {},
   "outputs": [
    {
     "data": {
      "text/plain": [
       "LogisticRegression(C=1.0, class_weight=None, dual=False, fit_intercept=True,\n",
       "          intercept_scaling=1, max_iter=100, multi_class='multinomial',\n",
       "          n_jobs=1, penalty='l2', random_state=None, solver='lbfgs',\n",
       "          tol=0.0001, verbose=0, warm_start=False)"
      ]
     },
     "execution_count": 16,
     "metadata": {},
     "output_type": "execute_result"
    }
   ],
   "source": [
    "from sklearn.linear_model import LogisticRegression\n",
    "mult_lr_clf=LogisticRegression(multi_class='multinomial',solver='lbfgs') \n",
    "#Multinomial indicates the use of many classes\n",
    "#Solver: Only ‘newton-cg’, ‘sag’, ‘saga’ and ‘lbfgs’ support multiclass problems\n",
    "mult_lr_clf"
   ]
  },
  {
   "cell_type": "markdown",
   "metadata": {},
   "source": [
    "### 4.1.2. Support Vector Classifier"
   ]
  },
  {
   "cell_type": "markdown",
   "metadata": {},
   "source": [
    "Support Vector Machine classifiers are strictly binary classifiers. However, we can set the hyperparameters of the class and it can support multiclass classification.\n",
    "In order to take account nonlinearities in the features data, we can use the kernel trick to obtain similar results as if we had added similarity features, without adding computational complexity.\n",
    "The Gaussian RBF kernel requires a scalling preprocessing of the feature values."
   ]
  },
  {
   "cell_type": "code",
   "execution_count": 15,
   "metadata": {},
   "outputs": [
    {
     "data": {
      "text/plain": [
       "Pipeline(memory=None,\n",
       "     steps=[('scaler', StandardScaler(copy=True, with_mean=True, with_std=True)), ('svm_clf', SVC(C=1.0, cache_size=200, class_weight=None, coef0=0.0,\n",
       "  decision_function_shape='ovr', degree=3, gamma='auto', kernel='rbf',\n",
       "  max_iter=-1, probability=True, random_state=42, shrinking=True,\n",
       "  tol=0.001, verbose=False))])"
      ]
     },
     "execution_count": 15,
     "metadata": {},
     "output_type": "execute_result"
    }
   ],
   "source": [
    "from sklearn.preprocessing import StandardScaler\n",
    "from sklearn.svm import SVC\n",
    "from sklearn.pipeline import Pipeline\n",
    " \n",
    "rbf_svm_clf=Pipeline([\n",
    "    ('scaler',StandardScaler()),\n",
    "    ('svm_clf',SVC(kernel='rbf',random_state=42,probability=True))\n",
    "])\n",
    "#probability=True: enable probability estimates.\n",
    "rbf_svm_clf"
   ]
  },
  {
   "cell_type": "markdown",
   "metadata": {},
   "source": [
    "### 4.1.3. Random Forest Classifier"
   ]
  },
  {
   "cell_type": "markdown",
   "metadata": {},
   "source": [
    "Random Forest is an ensemble of Decision Trees, generally trained via the bagging method. It introduces extra randomness when growing trees; instead of searching for the very best feature when splitting a node, it searches for the best feature among a random subset of feature. This trades a higher bias for a lower variance, yielding an overall better model."
   ]
  },
  {
   "cell_type": "code",
   "execution_count": 17,
   "metadata": {},
   "outputs": [
    {
     "data": {
      "text/plain": [
       "RandomForestClassifier(bootstrap=True, class_weight=None, criterion='gini',\n",
       "            max_depth=None, max_features='auto', max_leaf_nodes=None,\n",
       "            min_impurity_decrease=0.0, min_impurity_split=None,\n",
       "            min_samples_leaf=1, min_samples_split=2,\n",
       "            min_weight_fraction_leaf=0.0, n_estimators=10, n_jobs=1,\n",
       "            oob_score=False, random_state=42, verbose=0, warm_start=False)"
      ]
     },
     "execution_count": 17,
     "metadata": {},
     "output_type": "execute_result"
    }
   ],
   "source": [
    "from sklearn.ensemble import RandomForestClassifier\n",
    "rnd_clf=RandomForestClassifier(random_state=42)\n",
    "rnd_clf"
   ]
  },
  {
   "cell_type": "markdown",
   "metadata": {},
   "source": [
    "### 4.1.4. Extra-Trees"
   ]
  },
  {
   "cell_type": "markdown",
   "metadata": {},
   "source": [
    "Extremely Randomized Trees ensemble makes trees more random by also using random thresholds for each feature. This trades more bias for a lower variance. It also makes Extra-Trees much faster to train than regular Random Forest since finding the best possible threshold for each feature at every node is one of the most time-consuming task of growing a tree."
   ]
  },
  {
   "cell_type": "code",
   "execution_count": 19,
   "metadata": {},
   "outputs": [
    {
     "data": {
      "text/plain": [
       "ExtraTreesClassifier(bootstrap=False, class_weight=None, criterion='gini',\n",
       "           max_depth=None, max_features='auto', max_leaf_nodes=None,\n",
       "           min_impurity_decrease=0.0, min_impurity_split=None,\n",
       "           min_samples_leaf=1, min_samples_split=2,\n",
       "           min_weight_fraction_leaf=0.0, n_estimators=10, n_jobs=1,\n",
       "           oob_score=False, random_state=42, verbose=0, warm_start=False)"
      ]
     },
     "execution_count": 19,
     "metadata": {},
     "output_type": "execute_result"
    }
   ],
   "source": [
    "from sklearn.ensemble import ExtraTreesClassifier\n",
    "extra_trees_clf=ExtraTreesClassifier(random_state=42)\n",
    "extra_trees_clf"
   ]
  },
  {
   "cell_type": "markdown",
   "metadata": {},
   "source": [
    "### 4.1.5. Voting Classifier"
   ]
  },
  {
   "cell_type": "markdown",
   "metadata": {},
   "source": [
    "A simple way to create a better classifier is to aggregate the predictions of each classifier discussed previously, and predict the class that gets the most votes.\n",
    "If all classifiers are able to estimate class probabilities we can use the hyperparameter voting='soft' to indicate that we want to predict the class with the highest probability, averaged over all the indivial classifiers."
   ]
  },
  {
   "cell_type": "code",
   "execution_count": 20,
   "metadata": {},
   "outputs": [
    {
     "data": {
      "text/plain": [
       "VotingClassifier(estimators=[('mlc', LogisticRegression(C=1.0, class_weight=None, dual=False, fit_intercept=True,\n",
       "          intercept_scaling=1, max_iter=100, multi_class='multinomial',\n",
       "          n_jobs=1, penalty='l2', random_state=None, solver='lbfgs',\n",
       "          tol=0.0001, verbose=0, warm_start=False)), ('svc', P...estimators=10, n_jobs=1,\n",
       "           oob_score=False, random_state=42, verbose=0, warm_start=False))],\n",
       "         flatten_transform=None, n_jobs=1, voting='soft', weights=None)"
      ]
     },
     "execution_count": 20,
     "metadata": {},
     "output_type": "execute_result"
    }
   ],
   "source": [
    "from sklearn.ensemble import VotingClassifier\n",
    "voting_clf=VotingClassifier(                                                   \n",
    "        estimators=[('mlc',mult_lr_clf),('svc',rbf_svm_clf),('rf',rnd_clf),('et',extra_trees_clf)],    #List of (string,estimator) tuples\n",
    "        voting='soft')                                                                                 #hard or soft\n",
    "voting_clf"
   ]
  },
  {
   "cell_type": "markdown",
   "metadata": {},
   "source": [
    "## 4.2. Traning the Model"
   ]
  },
  {
   "cell_type": "markdown",
   "metadata": {},
   "source": [
    "The problem of Lithology Identification has been developed. The initial logging data has been clean and modified in order to have features that are related with the type of formation.\n",
    "Also, we have splitted the instances. The training set is used in this stage to fit the model parameters of each model discussed previously.\n",
    "The models disccused were selected because of their potential good performance. However, we will test them using the test set.\n",
    "In the following code, we perform the training procedure for each model, we obtain a measurement of their perfomance (Accuracy Score) and the time required for each model to be fitted and to predict."
   ]
  },
  {
   "cell_type": "code",
   "execution_count": 21,
   "metadata": {},
   "outputs": [
    {
     "name": "stdout",
     "output_type": "stream",
     "text": [
      "LogisticRegression  Accuracy Score:  0.662303664921466\n",
      "LogisticRegression  Time:  0.13936185836791992\n",
      "Pipeline  Accuracy Score:  0.8848167539267016\n",
      "Pipeline  Time:  0.29226231575012207\n",
      "RandomForestClassifier  Accuracy Score:  0.9960732984293194\n",
      "RandomForestClassifier  Time:  0.03910112380981445\n",
      "ExtraTreesClassifier  Accuracy Score:  1.0\n",
      "ExtraTreesClassifier  Time:  0.021556615829467773\n",
      "VotingClassifier  Accuracy Score:  0.9829842931937173\n",
      "VotingClassifier  Time:  0.44666409492492676\n"
     ]
    },
    {
     "name": "stderr",
     "output_type": "stream",
     "text": [
      "C:\\Users\\victo\\AppData\\Local\\conda\\conda\\envs\\datascience\\lib\\site-packages\\sklearn\\preprocessing\\label.py:151: DeprecationWarning: The truth value of an empty array is ambiguous. Returning False, but in future this will result in an error. Use `array.size > 0` to check that an array is not empty.\n",
      "  if diff:\n"
     ]
    }
   ],
   "source": [
    "import time\n",
    "from sklearn.metrics import accuracy_score\n",
    "\n",
    "for clf in (mult_lr_clf,rbf_svm_clf,rnd_clf,extra_trees_clf,voting_clf):\n",
    "    start = time.time()\n",
    "    clf.fit(Log_Attributes_train,Lithology_Labels_train)\n",
    "    y_pred=clf.predict(Log_Attributes_train)\n",
    "    print(clf.__class__.__name__,' Accuracy Score: ',accuracy_score(Lithology_Labels_train,y_pred)) #Accuracy is improved when the classifiers are grouped with voting\n",
    "    end = time.time()\n",
    "    print(clf.__class__.__name__,' Time: ',end - start)"
   ]
  },
  {
   "cell_type": "markdown",
   "metadata": {},
   "source": [
    "Note: 'Pipeline' correspond to the Support Vector Classifier model.\n",
    "\n",
    "The accuracy score of ExtraTreesClassifier is 1. This indicates, probably, an overfitted model.\n",
    "\n",
    "The VotingClassifier took more time to execute the training and prediction, but his accuracy score is not higher than RandomForestClassier's score."
   ]
  },
  {
   "cell_type": "markdown",
   "metadata": {},
   "source": [
    "## 4.3. Model evaluation"
   ]
  },
  {
   "cell_type": "markdown",
   "metadata": {},
   "source": [
    "The performance of the model is obtained using a dataset different than the one used for training purposes.\n",
    "The metric used to measure the performance is Accuracy Score. In multilabel classification, this function computes subset accuracy: the set of labels predicted for a sample must exactly match the corresponding set of labels in Lithology_Label_test."
   ]
  },
  {
   "cell_type": "code",
   "execution_count": 22,
   "metadata": {},
   "outputs": [
    {
     "name": "stdout",
     "output_type": "stream",
     "text": [
      "LogisticRegression  Accuracy Score:  0.6727748691099477\n",
      "LogisticRegression  Time:  0.0015020370483398438\n",
      "Pipeline  Accuracy Score:  0.819371727748691\n",
      "Pipeline  Time:  0.012534856796264648\n",
      "RandomForestClassifier  Accuracy Score:  0.8926701570680629\n",
      "RandomForestClassifier  Time:  0.0030078887939453125\n",
      "ExtraTreesClassifier  Accuracy Score:  0.8979057591623036\n",
      "ExtraTreesClassifier  Time:  0.0030074119567871094\n",
      "VotingClassifier  Accuracy Score:  0.8769633507853403\n",
      "VotingClassifier  Time:  0.016541004180908203\n"
     ]
    },
    {
     "name": "stderr",
     "output_type": "stream",
     "text": [
      "C:\\Users\\victo\\AppData\\Local\\conda\\conda\\envs\\datascience\\lib\\site-packages\\sklearn\\preprocessing\\label.py:151: DeprecationWarning: The truth value of an empty array is ambiguous. Returning False, but in future this will result in an error. Use `array.size > 0` to check that an array is not empty.\n",
      "  if diff:\n"
     ]
    }
   ],
   "source": [
    "for clf in (mult_lr_clf,rbf_svm_clf,rnd_clf,extra_trees_clf,voting_clf):                            #Final performance on the test set\n",
    "    start = time.time()\n",
    "    y_pred=clf.predict(Log_Attributes_test)\n",
    "    print(clf.__class__.__name__,' Accuracy Score: ',accuracy_score(Lithology_Labels_test,y_pred))  #Accuracy is improved when the classifiers are grouped with voting\n",
    "    end = time.time()\n",
    "    print(clf.__class__.__name__,' Time: ',end - start)"
   ]
  },
  {
   "cell_type": "markdown",
   "metadata": {},
   "source": [
    "According to the previous results, the RandomForestClassifier performed better than the other models. However, we would like to have a much better performance. The next step will be tuning the hyperparameters of this model."
   ]
  },
  {
   "cell_type": "markdown",
   "metadata": {},
   "source": [
    "## 4.4. Tuning the Model"
   ]
  },
  {
   "cell_type": "markdown",
   "metadata": {},
   "source": [
    "### 4.4.1. Error Analysis\n",
    "For review later. Pag.137"
   ]
  },
  {
   "cell_type": "markdown",
   "metadata": {},
   "source": [
    "### 4.4.2. Feature Importance"
   ]
  },
  {
   "cell_type": "markdown",
   "metadata": {},
   "source": [
    "Pag:257"
   ]
  },
  {
   "cell_type": "markdown",
   "metadata": {},
   "source": [
    "# 5. Results"
   ]
  },
  {
   "cell_type": "code",
   "execution_count": null,
   "metadata": {},
   "outputs": [],
   "source": []
  }
 ],
 "metadata": {
  "kernelspec": {
   "display_name": "Python 3",
   "language": "python",
   "name": "python3"
  },
  "language_info": {
   "codemirror_mode": {
    "name": "ipython",
    "version": 3
   },
   "file_extension": ".py",
   "mimetype": "text/x-python",
   "name": "python",
   "nbconvert_exporter": "python",
   "pygments_lexer": "ipython3",
   "version": "3.6.5"
  }
 },
 "nbformat": 4,
 "nbformat_minor": 2
}
